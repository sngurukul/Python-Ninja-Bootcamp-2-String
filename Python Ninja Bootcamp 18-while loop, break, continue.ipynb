{
 "cells": [
  {
   "cell_type": "markdown",
   "metadata": {},
   "source": [
    "# while loop"
   ]
  },
  {
   "cell_type": "markdown",
   "metadata": {},
   "source": [
    "The while loop in Python is used to iterate over a block of code as long as the condition is true."
   ]
  },
  {
   "cell_type": "markdown",
   "metadata": {},
   "source": [
    "We use while loop where we don't know the End"
   ]
  },
  {
   "cell_type": "markdown",
   "metadata": {},
   "source": [
    "Lets see a quick example"
   ]
  },
  {
   "cell_type": "code",
   "execution_count": 1,
   "metadata": {},
   "outputs": [
    {
     "name": "stdout",
     "output_type": "stream",
     "text": [
      "Hello\n",
      "Hello\n",
      "Hello\n"
     ]
    }
   ],
   "source": [
    "# Display print the 'Hello' 3-times \n",
    "count=0\n",
    "while count < 3 :\n",
    "    print('Hello')\n",
    "    count += 1"
   ]
  },
  {
   "cell_type": "code",
   "execution_count": 2,
   "metadata": {},
   "outputs": [
    {
     "name": "stdout",
     "output_type": "stream",
     "text": [
      "current value of x= 0\n",
      "current value of x= 1\n",
      "current value of x= 2\n",
      "current value of x= 3\n",
      "current value of x= 4\n"
     ]
    }
   ],
   "source": [
    "# Display and increment the value of variable on each iteration by 1\n",
    "x=0\n",
    "while x < 5 :\n",
    "    print('current value of x=',x)\n",
    "    x += 1"
   ]
  },
  {
   "cell_type": "markdown",
   "metadata": {},
   "source": [
    "### Break & Continue"
   ]
  },
  {
   "cell_type": "code",
   "execution_count": 3,
   "metadata": {},
   "outputs": [
    {
     "name": "stdout",
     "output_type": "stream",
     "text": [
      "current value of x= 0\n",
      "current value of x= 1\n",
      "current value of x= 2\n",
      "\n",
      "Alert!! x is equal to 2\n"
     ]
    }
   ],
   "source": [
    "# break statement is used to terminate the loop\n",
    "x=0\n",
    "\n",
    "while x < 5 :\n",
    "    \n",
    "    print('current value of x=',x) \n",
    "    \n",
    "    if x==2:\n",
    "        print('\\nAlert!! x is equal to 2')\n",
    "        break\n",
    "        \n",
    "    x += 1"
   ]
  },
  {
   "cell_type": "code",
   "execution_count": 4,
   "metadata": {},
   "outputs": [
    {
     "name": "stdout",
     "output_type": "stream",
     "text": [
      "current value of x= 1\n",
      "current value of x= 3\n",
      "current value of x= 4\n",
      "current value of x= 5\n"
     ]
    }
   ],
   "source": [
    "#Continue forces the next iteration of the loop to take place, skipping any code in between. \n",
    "x=0\n",
    "\n",
    "while x < 5 :\n",
    "    x += 1\n",
    "    if x==2:\n",
    "        continue\n",
    "        \n",
    "    print('current value of x=',x) "
   ]
  }
 ],
 "metadata": {
  "kernelspec": {
   "display_name": "Python 3",
   "language": "python",
   "name": "python3"
  },
  "language_info": {
   "codemirror_mode": {
    "name": "ipython",
    "version": 3
   },
   "file_extension": ".py",
   "mimetype": "text/x-python",
   "name": "python",
   "nbconvert_exporter": "python",
   "pygments_lexer": "ipython3",
   "version": "3.6.2"
  }
 },
 "nbformat": 4,
 "nbformat_minor": 2
}
