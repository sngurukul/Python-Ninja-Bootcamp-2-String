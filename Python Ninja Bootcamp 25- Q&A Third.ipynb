{
 "cells": [
  {
   "cell_type": "markdown",
   "metadata": {},
   "source": [
    "# Q&A third"
   ]
  },
  {
   "cell_type": "markdown",
   "metadata": {},
   "source": [
    "#### Q. Write a function to find the Area of square if diagonal d is passed as parameter"
   ]
  },
  {
   "cell_type": "markdown",
   "metadata": {},
   "source": [
    "Hint: Area = (Diagonal)*(Diagonal)/2  "
   ]
  },
  {
   "cell_type": "code",
   "execution_count": 1,
   "metadata": {},
   "outputs": [
    {
     "data": {
      "text/plain": [
       "2.0"
      ]
     },
     "execution_count": 1,
     "metadata": {},
     "output_type": "execute_result"
    }
   ],
   "source": [
    "def area_square(d):\n",
    "     return d*d/2\n",
    "    \n",
    "area_square(2)"
   ]
  },
  {
   "cell_type": "markdown",
   "metadata": {},
   "source": [
    "#### Q.Create a lambda expression for given program"
   ]
  },
  {
   "cell_type": "code",
   "execution_count": 2,
   "metadata": {},
   "outputs": [
    {
     "data": {
      "text/plain": [
       "8.0"
      ]
     },
     "execution_count": 2,
     "metadata": {},
     "output_type": "execute_result"
    }
   ],
   "source": [
    "area_square1= lambda d:d*d/2\n",
    "\n",
    "area_square1(4)"
   ]
  },
  {
   "cell_type": "markdown",
   "metadata": {},
   "source": [
    "#### Q.Write a function that accepts length of the sides of the triangle and find the whether it is equilateral, isosceles or right angel triangle. "
   ]
  },
  {
   "cell_type": "code",
   "execution_count": 3,
   "metadata": {},
   "outputs": [
    {
     "name": "stdout",
     "output_type": "stream",
     "text": [
      "Right angel Triangle\n"
     ]
    }
   ],
   "source": [
    "def triangle(a,b,c):\n",
    "    if a==b and b==c:\n",
    "        print('Equilateral Triangle')\n",
    "    elif a==b or b==c or c==a:\n",
    "        print('Isosceles Triangle')\n",
    "    elif (a**2==(b**2 + c**2))or(b**2==(c**2 + a**2))or(c**2==(a**2 + b**2)):\n",
    "        print('Right angel Triangle')\n",
    "        \n",
    "triangle(5,4,3)"
   ]
  },
  {
   "cell_type": "markdown",
   "metadata": {},
   "source": [
    "#### Q.Write a function that accepts a string s and  calculate the number of uppercase, lowercase, vowel ,consonant & digits."
   ]
  },
  {
   "cell_type": "code",
   "execution_count": 4,
   "metadata": {},
   "outputs": [
    {
     "name": "stdout",
     "output_type": "stream",
     "text": [
      "Number of Uppercase= 6\n",
      "Number of Lowercase= 32\n",
      "Number of Vowel= 13\n",
      "Number of Consonent= 25\n",
      "Number of Digit= 3\n"
     ]
    }
   ],
   "source": [
    "def up_lo_vo_co(strings):\n",
    "    \n",
    "    d={'uppercase':0,'lowercase':0,'vowel':0,'consonant':0,'digit':0}\n",
    "    \n",
    "    for s in strings:\n",
    "    \n",
    "        if s.isupper():\n",
    "            d['uppercase'] +=1\n",
    "        if s.islower() :\n",
    "            d['lowercase']+=1\n",
    "        if s in \"[aeiou]\":\n",
    "            d['vowel']+=1\n",
    "        if s not in \"[aeiou]\" and s.isalpha():\n",
    "            d['consonant']+=1\n",
    "        if s.isdigit():\n",
    "            d['digit']+=1\n",
    "            \n",
    "    \n",
    "    print('Number of Uppercase= {x}'.format(x=d['uppercase']))\n",
    "    print('Number of Lowercase= {x}'.format(x=d['lowercase']))\n",
    "    print('Number of Vowel= {x}'.format(x=d['vowel']))\n",
    "    print('Number of Consonent= {x}'.format(x=d['consonant']))\n",
    "    print('Number of Digit= {x}'.format(x=d['digit']))\n",
    "    \n",
    "up_lo_vo_co('Hi Guys, Welcome back to Python Ninja Bootcamp 007')"
   ]
  },
  {
   "cell_type": "markdown",
   "metadata": {},
   "source": [
    "#### Q.Write a python function that accepts a list and return a new list with unique element."
   ]
  },
  {
   "cell_type": "markdown",
   "metadata": {},
   "source": [
    "Method-1"
   ]
  },
  {
   "cell_type": "code",
   "execution_count": 5,
   "metadata": {},
   "outputs": [
    {
     "data": {
      "text/plain": [
       "[1, 2, 3, 4, 5]"
      ]
     },
     "execution_count": 5,
     "metadata": {},
     "output_type": "execute_result"
    }
   ],
   "source": [
    "def unique_list1(list1):\n",
    "    list2=[]\n",
    "    for var in list1:\n",
    "        if var not in list2:\n",
    "            list2.append(var)\n",
    "    return list2\n",
    "\n",
    "unique_list1([1,2,2,3,3,3,4,4,4,4,5,5,5,5,5])"
   ]
  },
  {
   "cell_type": "markdown",
   "metadata": {},
   "source": [
    "Method-2"
   ]
  },
  {
   "cell_type": "code",
   "execution_count": 6,
   "metadata": {},
   "outputs": [
    {
     "data": {
      "text/plain": [
       "[1, 2, 3, 4, 5]"
      ]
     },
     "execution_count": 6,
     "metadata": {},
     "output_type": "execute_result"
    }
   ],
   "source": [
    "def unique_list2(list1):\n",
    "    return list(set(list1))\n",
    "    \n",
    "unique_list2([1,2,2,3,3,3,4,4,4,4,5,5,5,5,5])    "
   ]
  },
  {
   "cell_type": "markdown",
   "metadata": {},
   "source": [
    "#### Q.Write lambda expression above question."
   ]
  },
  {
   "cell_type": "code",
   "execution_count": 7,
   "metadata": {},
   "outputs": [
    {
     "data": {
      "text/plain": [
       "[1, 2, 3, 4, 5]"
      ]
     },
     "execution_count": 7,
     "metadata": {},
     "output_type": "execute_result"
    }
   ],
   "source": [
    "unique_list3 = lambda list1: list(set(list1))\n",
    "\n",
    "unique_list3([1,2,2,3,3,3,4,4,4,4,5,5,5,5,5])  "
   ]
  },
  {
   "cell_type": "markdown",
   "metadata": {},
   "source": [
    "#### Q.Write a function that accepts a number n and returns the factorial of n."
   ]
  },
  {
   "cell_type": "code",
   "execution_count": 8,
   "metadata": {},
   "outputs": [
    {
     "data": {
      "text/plain": [
       "120"
      ]
     },
     "execution_count": 8,
     "metadata": {},
     "output_type": "execute_result"
    }
   ],
   "source": [
    "def factorial(n):\n",
    "    fact=1\n",
    "    for var in range(2,n+1):\n",
    "        fact*=var\n",
    "        \n",
    "    return fact\n",
    "\n",
    "factorial(5)"
   ]
  },
  {
   "cell_type": "markdown",
   "metadata": {},
   "source": [
    "#### Q.Write a function that accepts a number n and returns the sum of n natural numbers."
   ]
  },
  {
   "cell_type": "code",
   "execution_count": 9,
   "metadata": {},
   "outputs": [
    {
     "data": {
      "text/plain": [
       "15"
      ]
     },
     "execution_count": 9,
     "metadata": {},
     "output_type": "execute_result"
    }
   ],
   "source": [
    "def sum_natural(n):\n",
    "    sum=0\n",
    "    for var in range(1,n+1):\n",
    "        sum+=var\n",
    "        \n",
    "    return sum\n",
    "\n",
    "sum_natural(5)"
   ]
  },
  {
   "cell_type": "markdown",
   "metadata": {},
   "source": [
    "#### Q.Write a function that accepts a string and checks whether it is palindrome or not. "
   ]
  },
  {
   "cell_type": "code",
   "execution_count": 10,
   "metadata": {},
   "outputs": [
    {
     "data": {
      "text/plain": [
       "True"
      ]
     },
     "execution_count": 10,
     "metadata": {},
     "output_type": "execute_result"
    }
   ],
   "source": [
    "def palindrome(strings):\n",
    "    return strings==strings[::-1]\n",
    "\n",
    "palindrome('nitin')"
   ]
  },
  {
   "cell_type": "markdown",
   "metadata": {},
   "source": [
    "#### Q.Write a function that accepts a string and checks whether it is pangram or not. "
   ]
  },
  {
   "cell_type": "markdown",
   "metadata": {},
   "source": [
    "Hint: Pangram is the string that contains all letter of the alphabet"
   ]
  },
  {
   "cell_type": "code",
   "execution_count": 11,
   "metadata": {},
   "outputs": [
    {
     "name": "stdout",
     "output_type": "stream",
     "text": [
      "abcdefghijklmnopqrstuvwxyz\n"
     ]
    }
   ],
   "source": [
    "import string \n",
    "print( string.ascii_lowercase )"
   ]
  },
  {
   "cell_type": "code",
   "execution_count": 12,
   "metadata": {},
   "outputs": [
    {
     "data": {
      "text/plain": [
       "True"
      ]
     },
     "execution_count": 12,
     "metadata": {},
     "output_type": "execute_result"
    }
   ],
   "source": [
    "def pangram(s):\n",
    "    return set(string.ascii_lowercase)<=set(s)\n",
    "\n",
    "pangram('The quick brown fox jumps over the lazy dog 007')"
   ]
  }
 ],
 "metadata": {
  "kernelspec": {
   "display_name": "Python 3",
   "language": "python",
   "name": "python3"
  },
  "language_info": {
   "codemirror_mode": {
    "name": "ipython",
    "version": 3
   },
   "file_extension": ".py",
   "mimetype": "text/x-python",
   "name": "python",
   "nbconvert_exporter": "python",
   "pygments_lexer": "ipython3",
   "version": "3.6.2"
  }
 },
 "nbformat": 4,
 "nbformat_minor": 2
}
