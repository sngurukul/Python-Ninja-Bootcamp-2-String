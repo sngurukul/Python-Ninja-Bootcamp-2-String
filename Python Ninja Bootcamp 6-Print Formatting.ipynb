{
 "cells": [
  {
   "cell_type": "markdown",
   "metadata": {},
   "source": [
    "# Print formatting"
   ]
  },
  {
   "cell_type": "markdown",
   "metadata": {},
   "source": [
    "\"The various way of presenting the output in print statements\"."
   ]
  },
  {
   "cell_type": "markdown",
   "metadata": {},
   "source": [
    "Let's see some example-"
   ]
  },
  {
   "cell_type": "code",
   "execution_count": 1,
   "metadata": {},
   "outputs": [
    {
     "name": "stdout",
     "output_type": "stream",
     "text": [
      "Welcome to Python Ninja Bootcamp \n"
     ]
    }
   ],
   "source": [
    "print('Welcome to Python Ninja Bootcamp ')"
   ]
  },
  {
   "cell_type": "markdown",
   "metadata": {},
   "source": [
    "## String Formatting"
   ]
  },
  {
   "cell_type": "markdown",
   "metadata": {},
   "source": [
    "We can use %s to formart the into print statement."
   ]
  },
  {
   "cell_type": "code",
   "execution_count": 2,
   "metadata": {},
   "outputs": [
    {
     "name": "stdout",
     "output_type": "stream",
     "text": [
      "Place my variable here: Students\n"
     ]
    }
   ],
   "source": [
    "x='Students'\n",
    "\n",
    "print('Place my variable here: %s' %(x))"
   ]
  },
  {
   "cell_type": "code",
   "execution_count": 3,
   "metadata": {},
   "outputs": [
    {
     "name": "stdout",
     "output_type": "stream",
     "text": [
      "Place my variable here: Students\n"
     ]
    }
   ],
   "source": [
    "# we can change the variable from x to z\n",
    "z='Students'\n",
    "\n",
    "print('Place my variable here: %s' %(z))"
   ]
  },
  {
   "cell_type": "code",
   "execution_count": 5,
   "metadata": {},
   "outputs": [
    {
     "name": "stdout",
     "output_type": "stream",
     "text": [
      "Place my variable here: 11.25\n"
     ]
    }
   ],
   "source": [
    "# we can also convert number object to string format \n",
    "z= 11.25\n",
    "\n",
    "print('Place my variable here: %s' %(z))"
   ]
  },
  {
   "cell_type": "markdown",
   "metadata": {},
   "source": [
    "## Float Formatting"
   ]
  },
  {
   "cell_type": "markdown",
   "metadata": {},
   "source": [
    "We can %f to format in floating statement."
   ]
  },
  {
   "cell_type": "code",
   "execution_count": 6,
   "metadata": {},
   "outputs": [
    {
     "name": "stdout",
     "output_type": "stream",
     "text": [
      "Floating point number: 11.5 \n"
     ]
    }
   ],
   "source": [
    "# In float format %n1.n2f \n",
    "# The n1 stands the Total number of digits that the String should contain\n",
    "# The n2 symbolises the Total number of digits after decimalshould be displayed\n",
    "\n",
    "print('Floating point number: %1.1f '%(11.543))"
   ]
  },
  {
   "cell_type": "code",
   "execution_count": 7,
   "metadata": {},
   "outputs": [
    {
     "name": "stdout",
     "output_type": "stream",
     "text": [
      "Floating point number: 11.54 \n"
     ]
    }
   ],
   "source": [
    "# 1.2%f -> Two digits will be display after decimal\n",
    "print('Floating point number: %1.2f '%(11.543))"
   ]
  },
  {
   "cell_type": "code",
   "execution_count": 8,
   "metadata": {},
   "outputs": [
    {
     "name": "stdout",
     "output_type": "stream",
     "text": [
      "Floating point number: 11.5430000000 \n"
     ]
    }
   ],
   "source": [
    "# 1.2%f -> Ten digits will display after decimal\n",
    "print('Floating point number: %1.10f '%(11.543))"
   ]
  },
  {
   "cell_type": "code",
   "execution_count": 9,
   "metadata": {},
   "outputs": [
    {
     "name": "stdout",
     "output_type": "stream",
     "text": [
      "Floating point number: 11.543 \n"
     ]
    }
   ],
   "source": [
    "#1.2%f -> Three digits will be display after decimal\n",
    "print('Floating point number: %1.3f '%(11.543))"
   ]
  },
  {
   "cell_type": "markdown",
   "metadata": {},
   "source": [
    "## Multiple formatting"
   ]
  },
  {
   "cell_type": "code",
   "execution_count": 10,
   "metadata": {},
   "outputs": [
    {
     "name": "stdout",
     "output_type": "stream",
     "text": [
      "First: hi, Second: Tamta, Third: 5\n"
     ]
    }
   ],
   "source": [
    "# format objects into the multiple string formats\n",
    "print('First: %s, Second: %s, Third: %s' %('hi','Tamta',5))"
   ]
  },
  {
   "cell_type": "code",
   "execution_count": 11,
   "metadata": {},
   "outputs": [
    {
     "name": "stdout",
     "output_type": "stream",
     "text": [
      "First: 2, Second: 2\n"
     ]
    }
   ],
   "source": [
    "# we have to define same objects multiple to assign same value in string formats \n",
    "print('First: %s, Second: %s'%(2,2))"
   ]
  },
  {
   "cell_type": "markdown",
   "metadata": {},
   "source": [
    "## String .format( )"
   ]
  },
  {
   "cell_type": "markdown",
   "metadata": {},
   "source": [
    "The best way to format object into the string for print statements"
   ]
  },
  {
   "cell_type": "code",
   "execution_count": 12,
   "metadata": {},
   "outputs": [
    {
     "name": "stdout",
     "output_type": "stream",
     "text": [
      "First: Numbers, Second: Numbers\n"
     ]
    }
   ],
   "source": [
    "# we have to define the objects once to assign same value in string formats multiple times \n",
    "print('First: {x}, Second: {x}'.format(x='Numbers'))"
   ]
  },
  {
   "cell_type": "code",
   "execution_count": 13,
   "metadata": {},
   "outputs": [
    {
     "name": "stdout",
     "output_type": "stream",
     "text": [
      "First: Numbers, Second: Numbers, Third: Strings\n"
     ]
    }
   ],
   "source": [
    "# we can also add multiple number of string format statement  \n",
    "print('First: {x}, Second: {x}, Third: {y}'.format(x='Numbers',y='Strings'))"
   ]
  },
  {
   "cell_type": "code",
   "execution_count": 14,
   "metadata": {},
   "outputs": [
    {
     "name": "stdout",
     "output_type": "stream",
     "text": [
      "First: Numbers, Second: Strings, Third: Numbers\n"
     ]
    }
   ],
   "source": [
    "# we can change the sequence of string format statement\n",
    "print('First: {x}, Second: {y}, Third: {x}'.format(x='Numbers',y='Strings'))"
   ]
  },
  {
   "cell_type": "code",
   "execution_count": null,
   "metadata": {
    "collapsed": true
   },
   "outputs": [],
   "source": []
  }
 ],
 "metadata": {
  "kernelspec": {
   "display_name": "Python 3",
   "language": "python",
   "name": "python3"
  },
  "language_info": {
   "codemirror_mode": {
    "name": "ipython",
    "version": 3
   },
   "file_extension": ".py",
   "mimetype": "text/x-python",
   "name": "python",
   "nbconvert_exporter": "python",
   "pygments_lexer": "ipython3",
   "version": "3.6.2"
  }
 },
 "nbformat": 4,
 "nbformat_minor": 2
}
