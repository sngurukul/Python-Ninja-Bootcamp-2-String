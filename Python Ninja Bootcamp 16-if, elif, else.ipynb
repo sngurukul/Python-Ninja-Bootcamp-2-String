{
 "cells": [
  {
   "cell_type": "markdown",
   "metadata": {},
   "source": [
    "# if, elif, else"
   ]
  },
  {
   "cell_type": "markdown",
   "metadata": {},
   "source": [
    "if elif & else are the conditional statement used in python for decision making."
   ]
  },
  {
   "cell_type": "markdown",
   "metadata": {},
   "source": [
    "### if statement"
   ]
  },
  {
   "cell_type": "code",
   "execution_count": 19,
   "metadata": {
    "collapsed": true
   },
   "outputs": [],
   "source": [
    "x = 2\n",
    "y = 1"
   ]
  },
  {
   "cell_type": "code",
   "execution_count": 2,
   "metadata": {},
   "outputs": [
    {
     "name": "stdout",
     "output_type": "stream",
     "text": [
      "x is greater than y\n"
     ]
    }
   ],
   "source": [
    "if x > y :  \n",
    "    print('x is greater than y') #indentation means this statement belongs to the if block "
   ]
  },
  {
   "cell_type": "markdown",
   "metadata": {},
   "source": [
    "In above example the if condition x>y is true .So, the print() statement belongs to if blocks is executed"
   ]
  },
  {
   "cell_type": "code",
   "execution_count": 3,
   "metadata": {},
   "outputs": [
    {
     "name": "stdout",
     "output_type": "stream",
     "text": [
      "Outside the if block\n"
     ]
    }
   ],
   "source": [
    "#What is the less than operator is used\n",
    "if x < y :\n",
    "    print('x is greater than y')\n",
    "    \n",
    "\n",
    "print('Outside the if block')"
   ]
  },
  {
   "cell_type": "markdown",
   "metadata": {},
   "source": [
    "In above example the if condition x<y is false. So, the print statements inside the if blocks is not executed. And the print function outside the if block is executed. "
   ]
  },
  {
   "cell_type": "markdown",
   "metadata": {},
   "source": [
    "### If else statement"
   ]
  },
  {
   "cell_type": "code",
   "execution_count": 4,
   "metadata": {
    "collapsed": true
   },
   "outputs": [],
   "source": [
    "x = 4\n",
    "y = 5"
   ]
  },
  {
   "cell_type": "code",
   "execution_count": 5,
   "metadata": {},
   "outputs": [
    {
     "name": "stdout",
     "output_type": "stream",
     "text": [
      "x is not greater than y\n"
     ]
    }
   ],
   "source": [
    "if x > y :\n",
    "    print('x is greater than y')\n",
    "    \n",
    "else:\n",
    "    print('x is not greater than y')"
   ]
  },
  {
   "cell_type": "markdown",
   "metadata": {},
   "source": [
    "In the above example, first it will check the if condition x > y. "
   ]
  },
  {
   "cell_type": "markdown",
   "metadata": {},
   "source": [
    "Since the condition is false. So, the print statements inside the if blocks is skipped and it will jump to else statement."
   ]
  },
  {
   "cell_type": "markdown",
   "metadata": {},
   "source": [
    "Then the next else block is executed and it will display print message \"x is not greater than y\"."
   ]
  },
  {
   "cell_type": "markdown",
   "metadata": {},
   "source": [
    "### if elif else statement"
   ]
  },
  {
   "cell_type": "code",
   "execution_count": 6,
   "metadata": {
    "collapsed": true
   },
   "outputs": [],
   "source": [
    "x = 1"
   ]
  },
  {
   "cell_type": "code",
   "execution_count": 7,
   "metadata": {},
   "outputs": [
    {
     "name": "stdout",
     "output_type": "stream",
     "text": [
      "x is equal to 1\n"
     ]
    }
   ],
   "source": [
    "if x==1 :\n",
    "    print('x is equal to 1')\n",
    "    \n",
    "elif x==2 :\n",
    "    print('x is equal to 2')\n",
    "    \n",
    "elif x==3 :\n",
    "    print('x is equal to 3')\n",
    "    \n",
    "else:\n",
    "    print('x is the number other than 1,2,3')"
   ]
  },
  {
   "cell_type": "markdown",
   "metadata": {},
   "source": [
    "In the above example,the if condition x==1 is true. "
   ]
  },
  {
   "cell_type": "markdown",
   "metadata": {},
   "source": [
    "So, the print() statement  belongs to if blocks is executed"
   ]
  },
  {
   "cell_type": "markdown",
   "metadata": {},
   "source": [
    "And skipped the other elif and else statement."
   ]
  },
  {
   "cell_type": "code",
   "execution_count": 8,
   "metadata": {
    "collapsed": true
   },
   "outputs": [],
   "source": [
    "x = 2"
   ]
  },
  {
   "cell_type": "code",
   "execution_count": 9,
   "metadata": {},
   "outputs": [
    {
     "name": "stdout",
     "output_type": "stream",
     "text": [
      "x is equal to 2\n"
     ]
    }
   ],
   "source": [
    "if x==1 :\n",
    "    print('x is equal to 1')\n",
    "    \n",
    "elif x==2 :\n",
    "    print('x is equal to 2')\n",
    "    \n",
    "elif x==3 :\n",
    "    print('x is equal to 3')\n",
    "    \n",
    "else:\n",
    "    print('x is the number other than 1,2,3')"
   ]
  },
  {
   "cell_type": "markdown",
   "metadata": {},
   "source": [
    "In the above example, first it will check the if condition x==1 .Since it is false.  "
   ]
  },
  {
   "cell_type": "markdown",
   "metadata": {},
   "source": [
    "So, the  if blocks is not executed and it will jump to elif."
   ]
  },
  {
   "cell_type": "markdown",
   "metadata": {},
   "source": [
    "Since elif condition x==2 is true. So, elif block is executed and it will display print message \"x is equal to 2\"."
   ]
  },
  {
   "cell_type": "code",
   "execution_count": 10,
   "metadata": {
    "collapsed": true
   },
   "outputs": [],
   "source": [
    "x = 3"
   ]
  },
  {
   "cell_type": "code",
   "execution_count": 11,
   "metadata": {},
   "outputs": [
    {
     "name": "stdout",
     "output_type": "stream",
     "text": [
      "x is equal to 3\n"
     ]
    }
   ],
   "source": [
    "if x==1 :\n",
    "    print('x is equal to 1')\n",
    "    \n",
    "elif x==2 :\n",
    "    print('x is equal to 2')\n",
    "    \n",
    "elif x==3 :\n",
    "    print('x is equal to 3')\n",
    "    \n",
    "else:\n",
    "    print('x is the number other than 1,2,3')"
   ]
  },
  {
   "cell_type": "markdown",
   "metadata": {},
   "source": [
    "The reason it happen bcz first it will check the if condition x==1 .  "
   ]
  },
  {
   "cell_type": "markdown",
   "metadata": {},
   "source": [
    "Since it is false .so, the  if blocks is not executed and it will jump to next elif condition."
   ]
  },
  {
   "cell_type": "markdown",
   "metadata": {},
   "source": [
    "Since elif condition x==2 is also false. So, elif block is not  executed and it will jump to next elif condtion."
   ]
  },
  {
   "cell_type": "markdown",
   "metadata": {},
   "source": [
    "Since elif condition x==3 is true. So, elif block is executed and it will display print message \"x is equal to 3\"."
   ]
  },
  {
   "cell_type": "code",
   "execution_count": 12,
   "metadata": {
    "collapsed": true
   },
   "outputs": [],
   "source": [
    "x = 5"
   ]
  },
  {
   "cell_type": "code",
   "execution_count": 13,
   "metadata": {},
   "outputs": [
    {
     "name": "stdout",
     "output_type": "stream",
     "text": [
      "x is the number other than 1,2,3\n"
     ]
    }
   ],
   "source": [
    "if x==1 :\n",
    "    print('x is equal to 1')\n",
    "    \n",
    "elif x==2 :\n",
    "    print('x is equal to 2')\n",
    "    \n",
    "elif x==3 :\n",
    "    print('x is equal to 3')\n",
    "    \n",
    "else:\n",
    "    print('x is the number other than 1,2,3')"
   ]
  },
  {
   "cell_type": "markdown",
   "metadata": {},
   "source": [
    "In the above example, the reason it happen because first it will check all condition one by one."
   ]
  },
  {
   "cell_type": "markdown",
   "metadata": {},
   "source": [
    "Since all the condtions are false. So, it will jump to else condition."
   ]
  },
  {
   "cell_type": "markdown",
   "metadata": {},
   "source": [
    " And  display the print message \"x is not equal to 1,2,3\"."
   ]
  },
  {
   "cell_type": "markdown",
   "metadata": {},
   "source": [
    "#  Example"
   ]
  },
  {
   "cell_type": "code",
   "execution_count": 14,
   "metadata": {},
   "outputs": [
    {
     "name": "stdout",
     "output_type": "stream",
     "text": [
      "a is less than b\n"
     ]
    }
   ],
   "source": [
    "a = 10\n",
    "b = 15\n",
    "\n",
    "if a < b :\n",
    "    print('a is less than b')"
   ]
  },
  {
   "cell_type": "code",
   "execution_count": 15,
   "metadata": {},
   "outputs": [
    {
     "name": "stdout",
     "output_type": "stream",
     "text": [
      "a is less than b\n"
     ]
    }
   ],
   "source": [
    "a = 10\n",
    "b = 15\n",
    "\n",
    "if a < b:\n",
    "    print('a is less than b')\n",
    "    \n",
    "elif a==b:\n",
    "    print('a is equal to b')\n",
    "    \n",
    "else :\n",
    "    print('a is less than b')\n",
    "    "
   ]
  },
  {
   "cell_type": "code",
   "execution_count": 16,
   "metadata": {},
   "outputs": [
    {
     "name": "stdout",
     "output_type": "stream",
     "text": [
      "a is equal to b\n"
     ]
    }
   ],
   "source": [
    "a = 10\n",
    "b = 10\n",
    "\n",
    "if a < b:\n",
    "    print('a is less than b')\n",
    "    \n",
    "elif a==b:\n",
    "    print('a is equal to b')\n",
    "    \n",
    "else :\n",
    "    print('a is less than b')"
   ]
  },
  {
   "cell_type": "code",
   "execution_count": 17,
   "metadata": {},
   "outputs": [
    {
     "name": "stdout",
     "output_type": "stream",
     "text": [
      "a is less than b\n"
     ]
    }
   ],
   "source": [
    "a = 15\n",
    "b = 10\n",
    "\n",
    "if a < b:\n",
    "    print('a is less than b')\n",
    "\n",
    "elif a==b:\n",
    "    print('a is equal to b')\n",
    "    \n",
    "else :\n",
    "    print('a is less than b')\n",
    "    "
   ]
  }
 ],
 "metadata": {
  "kernelspec": {
   "display_name": "Python 3",
   "language": "python",
   "name": "python3"
  },
  "language_info": {
   "codemirror_mode": {
    "name": "ipython",
    "version": 3
   },
   "file_extension": ".py",
   "mimetype": "text/x-python",
   "name": "python",
   "nbconvert_exporter": "python",
   "pygments_lexer": "ipython3",
   "version": "3.6.2"
  }
 },
 "nbformat": 4,
 "nbformat_minor": 2
}
