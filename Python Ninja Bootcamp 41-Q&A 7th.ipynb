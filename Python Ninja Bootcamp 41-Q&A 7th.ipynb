{
 "cells": [
  {
   "cell_type": "markdown",
   "metadata": {
    "collapsed": true
   },
   "source": [
    "# Q&A 7th"
   ]
  },
  {
   "cell_type": "markdown",
   "metadata": {},
   "source": [
    "#### Q. Write the Program to count the occurrence of a number in the digit given by user\n",
    "\n",
    "Example: 111122233333\n"
   ]
  },
  {
   "cell_type": "markdown",
   "metadata": {},
   "source": [
    "Output:\n",
    "####        1 occur 4-times\n",
    "####        2 occur 3-times\n",
    "####        3 occur 5-times"
   ]
  },
  {
   "cell_type": "code",
   "execution_count": 1,
   "metadata": {},
   "outputs": [
    {
     "name": "stdout",
     "output_type": "stream",
     "text": [
      "Enter the digit =111122233333\n"
     ]
    }
   ],
   "source": [
    "num=input('Enter the digit =')"
   ]
  },
  {
   "cell_type": "code",
   "execution_count": 2,
   "metadata": {},
   "outputs": [
    {
     "name": "stdout",
     "output_type": "stream",
     "text": [
      "1 occur 4-times\n",
      "2 occur 3-times\n",
      "3 occur 5-times\n"
     ]
    }
   ],
   "source": [
    "from collections import Counter\n",
    "\n",
    "for key,value in Counter(list(num)).items():\n",
    "    print('{x} occur {y}-times'.format(x=key,y=value))"
   ]
  },
  {
   "cell_type": "markdown",
   "metadata": {},
   "source": [
    "#### Q. Write a program to remove the punctuation marks from the string given by the user"
   ]
  },
  {
   "cell_type": "markdown",
   "metadata": {},
   "source": [
    "Example- Hi guys,welcome back to python ninja bootcamp. Let's get started!"
   ]
  },
  {
   "cell_type": "markdown",
   "metadata": {},
   "source": [
    "Output:"
   ]
  },
  {
   "cell_type": "markdown",
   "metadata": {},
   "source": [
    "#### Hi guys welcome back to python ninja bootcamp Let s get started"
   ]
  },
  {
   "cell_type": "code",
   "execution_count": 3,
   "metadata": {},
   "outputs": [
    {
     "name": "stdout",
     "output_type": "stream",
     "text": [
      "Enter the string = Hi guys,welcome back to python ninja bootcamp. Let's get started!\n"
     ]
    }
   ],
   "source": [
    "import re\n",
    "pattern='\\w+'\n",
    "string=input('Enter the string = ')"
   ]
  },
  {
   "cell_type": "code",
   "execution_count": 4,
   "metadata": {},
   "outputs": [
    {
     "data": {
      "text/plain": [
       "'Hi guys welcome back to python ninja bootcamp Let s get started'"
      ]
     },
     "execution_count": 4,
     "metadata": {},
     "output_type": "execute_result"
    }
   ],
   "source": [
    "' '.join(re.findall(pattern,string))"
   ]
  },
  {
   "cell_type": "markdown",
   "metadata": {},
   "source": [
    "#### Q.Write a program to extract the Email id from the string given by the user.\n",
    "\n",
    "Example-Please contact sn.gurukul24.7uk@gmail.com for assistance"
   ]
  },
  {
   "cell_type": "markdown",
   "metadata": {},
   "source": [
    "Output:"
   ]
  },
  {
   "cell_type": "markdown",
   "metadata": {},
   "source": [
    "#### sn.gurukul24.7uk@gmail.com"
   ]
  },
  {
   "cell_type": "code",
   "execution_count": 9,
   "metadata": {},
   "outputs": [
    {
     "name": "stdout",
     "output_type": "stream",
     "text": [
      "Enter the string = Please contact sn.gurukul24.7uk@gmail.com for assistance\n"
     ]
    }
   ],
   "source": [
    "import re\n",
    "pattern='[\\w\\.-]+@[\\w\\.-]+' #[\\w\\.-]+ matches one or more aplha numeric, dot or dash\n",
    "string=input('Enter the string = ')"
   ]
  },
  {
   "cell_type": "code",
   "execution_count": 10,
   "metadata": {},
   "outputs": [
    {
     "data": {
      "text/plain": [
       "'sn.gurukul24.7uk@gmail.com'"
      ]
     },
     "execution_count": 10,
     "metadata": {},
     "output_type": "execute_result"
    }
   ],
   "source": [
    "re.search(pattern,string).group()"
   ]
  }
 ],
 "metadata": {
  "kernelspec": {
   "display_name": "Python 3",
   "language": "python",
   "name": "python3"
  },
  "language_info": {
   "codemirror_mode": {
    "name": "ipython",
    "version": 3
   },
   "file_extension": ".py",
   "mimetype": "text/x-python",
   "name": "python",
   "nbconvert_exporter": "python",
   "pygments_lexer": "ipython3",
   "version": "3.6.2"
  }
 },
 "nbformat": 4,
 "nbformat_minor": 2
}
