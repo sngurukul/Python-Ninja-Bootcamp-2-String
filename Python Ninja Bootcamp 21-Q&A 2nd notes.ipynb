{
 "cells": [
  {
   "cell_type": "markdown",
   "metadata": {},
   "source": [
    "# Q&A 2nd"
   ]
  },
  {
   "cell_type": "markdown",
   "metadata": {},
   "source": [
    "Q.Write a program to split the given string and find the word starts with 'w'"
   ]
  },
  {
   "cell_type": "code",
   "execution_count": 1,
   "metadata": {},
   "outputs": [
    {
     "name": "stdout",
     "output_type": "stream",
     "text": [
      "worth\n",
      "what\n",
      "what\n"
     ]
    }
   ],
   "source": [
    "st='Your worth consists in what you are and not in what you have'\n",
    "\n",
    "for var in st.split():\n",
    "    if var[0]=='w':\n",
    "        print(var)"
   ]
  },
  {
   "cell_type": "markdown",
   "metadata": {},
   "source": [
    "Q.Write the Program to print \"fizz\" for multiple of 3, 'buzz' for the multiple of 5 and 'fizzbuzz' for multiple of both for the ingetegr between 1 to 50?"
   ]
  },
  {
   "cell_type": "code",
   "execution_count": 2,
   "metadata": {},
   "outputs": [
    {
     "name": "stdout",
     "output_type": "stream",
     "text": [
      "3->fizz\n",
      "5->buzz\n",
      "6->fizz\n",
      "9->fizz\n",
      "10->buzz\n",
      "12->fizz\n",
      "15->fizzbuzz\n",
      "18->fizz\n",
      "20->buzz\n",
      "21->fizz\n",
      "24->fizz\n",
      "25->buzz\n",
      "27->fizz\n",
      "30->fizzbuzz\n",
      "33->fizz\n",
      "35->buzz\n",
      "36->fizz\n",
      "39->fizz\n",
      "40->buzz\n",
      "42->fizz\n",
      "45->fizzbuzz\n",
      "48->fizz\n",
      "50->buzz\n"
     ]
    }
   ],
   "source": [
    "for var in range(1,51):\n",
    "    \n",
    "    if var%15==0:\n",
    "        print('{x}->fizzbuzz'.format(x=var))    \n",
    "    \n",
    "    elif var%5==0:\n",
    "        print('{x}->buzz'.format(x=var))\n",
    "        \n",
    "    elif var%3==0:\n",
    "        print('{x}->fizz'.format(x=var))"
   ]
  },
  {
   "cell_type": "markdown",
   "metadata": {},
   "source": [
    "Q.Write the program to find the factorial of number given by the user."
   ]
  },
  {
   "cell_type": "markdown",
   "metadata": {},
   "source": [
    "Hint: n!=n*(n-1)*(n-2)*........................*2*1"
   ]
  },
  {
   "cell_type": "code",
   "execution_count": 3,
   "metadata": {},
   "outputs": [
    {
     "name": "stdout",
     "output_type": "stream",
     "text": [
      "Enter the number for factorial= 5\n"
     ]
    }
   ],
   "source": [
    "n=int(input('Enter the number for factorial= '))"
   ]
  },
  {
   "cell_type": "code",
   "execution_count": 4,
   "metadata": {},
   "outputs": [
    {
     "name": "stdout",
     "output_type": "stream",
     "text": [
      "120\n"
     ]
    }
   ],
   "source": [
    "fact=1\n",
    "for var in range(2,n+1):\n",
    "    fact*=var\n",
    "    \n",
    "print(fact)"
   ]
  },
  {
   "cell_type": "markdown",
   "metadata": {},
   "source": [
    "Q.Write a program to print Fibonacci series up to n terms."
   ]
  },
  {
   "cell_type": "markdown",
   "metadata": {},
   "source": [
    "Hint: 0,1,1,2,3,5,8,13,21,34"
   ]
  },
  {
   "cell_type": "code",
   "execution_count": 5,
   "metadata": {},
   "outputs": [
    {
     "name": "stdout",
     "output_type": "stream",
     "text": [
      "Enter the number for fibonacci series= 5\n"
     ]
    }
   ],
   "source": [
    "n=int(input('Enter the number for fibonacci series= '))"
   ]
  },
  {
   "cell_type": "code",
   "execution_count": 6,
   "metadata": {},
   "outputs": [
    {
     "name": "stdout",
     "output_type": "stream",
     "text": [
      "0\n",
      "1\n",
      "1\n",
      "2\n",
      "3\n"
     ]
    }
   ],
   "source": [
    "F=0\n",
    "S=1\n",
    "T=1\n",
    "for var in range(0,n):\n",
    "    print(F)\n",
    "    T=F+S\n",
    "    F=S\n",
    "    S=T"
   ]
  },
  {
   "cell_type": "markdown",
   "metadata": {},
   "source": [
    "Q.Write a program to find whether the number is prime or not."
   ]
  },
  {
   "cell_type": "code",
   "execution_count": 7,
   "metadata": {},
   "outputs": [
    {
     "name": "stdout",
     "output_type": "stream",
     "text": [
      "Enter the number= 5\n"
     ]
    }
   ],
   "source": [
    "n=int(input('Enter the number= '))"
   ]
  },
  {
   "cell_type": "code",
   "execution_count": 8,
   "metadata": {},
   "outputs": [
    {
     "name": "stdout",
     "output_type": "stream",
     "text": [
      "5 is prime\n"
     ]
    }
   ],
   "source": [
    "flag=0\n",
    "\n",
    "for var in range(1,n+1):\n",
    "    \n",
    "    if n%var==0:\n",
    "        flag+=1\n",
    "        \n",
    "if flag==2:\n",
    "    print('{x} is prime'.format(x=var))\n",
    "    \n",
    "else:\n",
    "    print('{x} is not prime'.format(x=var))"
   ]
  },
  {
   "cell_type": "markdown",
   "metadata": {},
   "source": [
    "Q.Write program to find LCM of 2-number."
   ]
  },
  {
   "cell_type": "code",
   "execution_count": 9,
   "metadata": {},
   "outputs": [
    {
     "name": "stdout",
     "output_type": "stream",
     "text": [
      "Enter the 1st number= 6\n",
      "Enter the 2nd number= 9\n"
     ]
    }
   ],
   "source": [
    "a=int(input('Enter the 1st number= '))\n",
    "b=int(input('Enter the 2nd number= '))"
   ]
  },
  {
   "cell_type": "code",
   "execution_count": 10,
   "metadata": {},
   "outputs": [
    {
     "name": "stdout",
     "output_type": "stream",
     "text": [
      "LCM of 6 and 9 is 18\n"
     ]
    }
   ],
   "source": [
    "if a<b:\n",
    "    min=a\n",
    "else :\n",
    "    min=b\n",
    "    \n",
    "while(True):\n",
    "    \n",
    "    if min%a==0 and min%b==0:\n",
    "        print('LCM of {x} and {y} is {z}'.format(x=a,y=b,z=min))\n",
    "        break\n",
    "        \n",
    "    min=min+1"
   ]
  },
  {
   "cell_type": "markdown",
   "metadata": {},
   "source": [
    "Q.Write program to find HCF of 2-number."
   ]
  },
  {
   "cell_type": "code",
   "execution_count": 11,
   "metadata": {},
   "outputs": [
    {
     "name": "stdout",
     "output_type": "stream",
     "text": [
      "Enter the 1st number= 60\n",
      "Enter the 2nd number= 90\n"
     ]
    }
   ],
   "source": [
    "a=int(input('Enter the 1st number= '))\n",
    "b=int(input('Enter the 2nd number= '))"
   ]
  },
  {
   "cell_type": "code",
   "execution_count": 12,
   "metadata": {},
   "outputs": [
    {
     "name": "stdout",
     "output_type": "stream",
     "text": [
      "LCM of 60 and 90 is 30\n"
     ]
    }
   ],
   "source": [
    "if a<b:\n",
    "    min=a\n",
    "else :\n",
    "    min=b\n",
    "    \n",
    "for var in range(1,min+1):\n",
    "    if a%var==0 and b%var==0:\n",
    "        HCF=var\n",
    "        \n",
    "print('LCM of {x} and {y} is {z}'.format(x=a,y=b,z=HCF))"
   ]
  },
  {
   "cell_type": "markdown",
   "metadata": {},
   "source": [
    "Q.Write a program to check whether a number is palindrome or not."
   ]
  },
  {
   "cell_type": "markdown",
   "metadata": {},
   "source": [
    "Reverse of the number is equal to the Original number is called palindrome"
   ]
  },
  {
   "cell_type": "markdown",
   "metadata": {},
   "source": [
    "for example-"
   ]
  },
  {
   "cell_type": "markdown",
   "metadata": {},
   "source": [
    "131 is palindrome as Reverse of the number is equal to the Original number"
   ]
  },
  {
   "cell_type": "markdown",
   "metadata": {},
   "source": [
    "### 1st method"
   ]
  },
  {
   "cell_type": "code",
   "execution_count": 13,
   "metadata": {},
   "outputs": [
    {
     "name": "stdout",
     "output_type": "stream",
     "text": [
      "Enter the number= 121\n"
     ]
    }
   ],
   "source": [
    "n=int(input('Enter the number= '))"
   ]
  },
  {
   "cell_type": "code",
   "execution_count": 14,
   "metadata": {},
   "outputs": [
    {
     "name": "stdout",
     "output_type": "stream",
     "text": [
      "121 is palindrome\n"
     ]
    }
   ],
   "source": [
    "rev=0\n",
    "temp=n\n",
    "while temp>0:\n",
    "    rev=rev*10+temp%10 \n",
    "    temp//=10\n",
    "if n==rev:\n",
    "    print('{x} is palindrome'.format(x=n))\n",
    "else:\n",
    "    print('{x} is not palindrome'.format(x=n))"
   ]
  },
  {
   "cell_type": "markdown",
   "metadata": {},
   "source": [
    "### 2nd method"
   ]
  },
  {
   "cell_type": "code",
   "execution_count": 15,
   "metadata": {},
   "outputs": [
    {
     "name": "stdout",
     "output_type": "stream",
     "text": [
      "Enter the number= 121\n"
     ]
    }
   ],
   "source": [
    "n=input('Enter the number= ') # n is string in this case. since input function returns string value "
   ]
  },
  {
   "cell_type": "code",
   "execution_count": 16,
   "metadata": {},
   "outputs": [
    {
     "data": {
      "text/plain": [
       "'121'"
      ]
     },
     "execution_count": 16,
     "metadata": {},
     "output_type": "execute_result"
    }
   ],
   "source": [
    "n[::-1] # Since is value of n is string. so we can reverse the sequence"
   ]
  },
  {
   "cell_type": "code",
   "execution_count": 17,
   "metadata": {},
   "outputs": [
    {
     "name": "stdout",
     "output_type": "stream",
     "text": [
      "121 is palindrome\n"
     ]
    }
   ],
   "source": [
    "if n==n[::-1]:  # Comparing the original and reversed number \n",
    "    print('{x} is palindrome'.format(x=n))\n",
    "else:\n",
    "    print('{x} is not palindrome'.format(x=n))"
   ]
  },
  {
   "cell_type": "markdown",
   "metadata": {},
   "source": [
    "### In the next lecture will cover Methods & Function"
   ]
  }
 ],
 "metadata": {
  "kernelspec": {
   "display_name": "Python 3",
   "language": "python",
   "name": "python3"
  },
  "language_info": {
   "codemirror_mode": {
    "name": "ipython",
    "version": 3
   },
   "file_extension": ".py",
   "mimetype": "text/x-python",
   "name": "python",
   "nbconvert_exporter": "python",
   "pygments_lexer": "ipython3",
   "version": "3.6.2"
  }
 },
 "nbformat": 4,
 "nbformat_minor": 2
}
